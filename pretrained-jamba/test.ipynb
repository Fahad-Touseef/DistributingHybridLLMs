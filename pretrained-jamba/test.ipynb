{
 "cells": [
  {
   "cell_type": "code",
   "execution_count": 1,
   "id": "038335b0",
   "metadata": {},
   "outputs": [],
   "source": [
    "import torch\n",
    "import torch.nn as nn\n",
    "\n",
    "\n",
    "class AlexNet(nn.Module):\n",
    "    def __init__(self, num_classes=1000):\n",
    "        super(AlexNet, self).__init__()\n",
    "        self.features = nn.Sequential(\n",
    "            nn.Conv2d(3, 64, kernel_size=11, stride=4, padding=2),\n",
    "            nn.ReLU(inplace=True),\n",
    "            nn.MaxPool2d(kernel_size=3, stride=2),\n",
    "            nn.Conv2d(64, 192, kernel_size=5, padding=2),\n",
    "            nn.ReLU(inplace=True),\n",
    "            nn.MaxPool2d(kernel_size=3, stride=2),\n",
    "            nn.Conv2d(192, 384, kernel_size=3, padding=1),\n",
    "            nn.ReLU(inplace=True),\n",
    "            nn.Conv2d(384, 256, kernel_size=3, padding=1),\n",
    "            nn.ReLU(inplace=True),\n",
    "            nn.Conv2d(256, 256, kernel_size=3, padding=1),\n",
    "            nn.ReLU(inplace=True),\n",
    "            nn.MaxPool2d(kernel_size=3, stride=2),\n",
    "        )\n",
    "        self.avgpool = nn.AdaptiveAvgPool2d((6, 6))\n",
    "        self.classifier = nn.Sequential(\n",
    "            nn.Dropout(),\n",
    "            nn.Linear(256 * 6 * 6, 4096),\n",
    "            nn.ReLU(inplace=True),\n",
    "            nn.Dropout(),\n",
    "            nn.Linear(4096, 4096),\n",
    "            nn.ReLU(inplace=True),\n",
    "            nn.Linear(4096, num_classes),\n",
    "        )\n",
    "\n",
    "    def forward(self, x):\n",
    "        x = self.features(x)\n",
    "        x = self.avgpool(x)\n",
    "        x = torch.flatten(x, 1)\n",
    "        x = self.classifier(x)\n",
    "        return x"
   ]
  },
  {
   "cell_type": "code",
   "execution_count": 2,
   "id": "71e862c9",
   "metadata": {},
   "outputs": [],
   "source": [
    "net = AlexNet(num_classes=10)"
   ]
  },
  {
   "cell_type": "code",
   "execution_count": 3,
   "id": "d6ca7eab",
   "metadata": {},
   "outputs": [],
   "source": [
    "def join_layers(vision_model):\n",
    "    layers = [\n",
    "        *vision_model.features,\n",
    "        vision_model.avgpool,\n",
    "        lambda x: torch.flatten(x, 1),\n",
    "        *vision_model.classifier,\n",
    "    ]\n",
    "    return layers"
   ]
  },
  {
   "cell_type": "code",
   "execution_count": 4,
   "id": "56a98b4f",
   "metadata": {},
   "outputs": [],
   "source": [
    "pipeline_layer = join_layers(net)"
   ]
  },
  {
   "cell_type": "code",
   "execution_count": 5,
   "id": "ea56ac9e",
   "metadata": {},
   "outputs": [
    {
     "data": {
      "text/plain": [
       "[Conv2d(3, 64, kernel_size=(11, 11), stride=(4, 4), padding=(2, 2)),\n",
       " ReLU(inplace=True),\n",
       " MaxPool2d(kernel_size=3, stride=2, padding=0, dilation=1, ceil_mode=False),\n",
       " Conv2d(64, 192, kernel_size=(5, 5), stride=(1, 1), padding=(2, 2)),\n",
       " ReLU(inplace=True),\n",
       " MaxPool2d(kernel_size=3, stride=2, padding=0, dilation=1, ceil_mode=False),\n",
       " Conv2d(192, 384, kernel_size=(3, 3), stride=(1, 1), padding=(1, 1)),\n",
       " ReLU(inplace=True),\n",
       " Conv2d(384, 256, kernel_size=(3, 3), stride=(1, 1), padding=(1, 1)),\n",
       " ReLU(inplace=True),\n",
       " Conv2d(256, 256, kernel_size=(3, 3), stride=(1, 1), padding=(1, 1)),\n",
       " ReLU(inplace=True),\n",
       " MaxPool2d(kernel_size=3, stride=2, padding=0, dilation=1, ceil_mode=False),\n",
       " AdaptiveAvgPool2d(output_size=(6, 6)),\n",
       " <function __main__.join_layers.<locals>.<lambda>(x)>,\n",
       " Dropout(p=0.5, inplace=False),\n",
       " Linear(in_features=9216, out_features=4096, bias=True),\n",
       " ReLU(inplace=True),\n",
       " Dropout(p=0.5, inplace=False),\n",
       " Linear(in_features=4096, out_features=4096, bias=True),\n",
       " ReLU(inplace=True),\n",
       " Linear(in_features=4096, out_features=10, bias=True)]"
      ]
     },
     "execution_count": 5,
     "metadata": {},
     "output_type": "execute_result"
    }
   ],
   "source": [
    "pipeline_layer"
   ]
  },
  {
   "cell_type": "code",
   "execution_count": 4,
   "id": "bfef736c",
   "metadata": {},
   "outputs": [],
   "source": [
    "from torchvision import datasets, transforms\n",
    "\n",
    "import torchvision"
   ]
  },
  {
   "cell_type": "code",
   "execution_count": 5,
   "id": "86fad8f4",
   "metadata": {},
   "outputs": [],
   "source": [
    "def cifar_trainset(local_rank, dl_path='/tmp/cifar10-data'):\n",
    "    transform = transforms.Compose([\n",
    "        transforms.Resize(256),\n",
    "        transforms.CenterCrop(224),\n",
    "        transforms.ToTensor(),\n",
    "        transforms.Normalize(mean=[0.485, 0.456, 0.406], std=[0.229, 0.224, 0.225]),\n",
    "    ])\n",
    "\n",
    "    # Ensure only one rank downloads.\n",
    "    # Note: if the download path is not on a shared filesytem, remove the semaphore\n",
    "    # and switch to args.local_rank\n",
    "   \n",
    "    trainset = torchvision.datasets.CIFAR10(root=dl_path,\n",
    "                                            train=True,\n",
    "                                            download=True,\n",
    "                                            transform=transform)\n",
    "    \n",
    "    return trainset"
   ]
  },
  {
   "cell_type": "code",
   "execution_count": 7,
   "id": "74ae3b63",
   "metadata": {},
   "outputs": [
    {
     "name": "stdout",
     "output_type": "stream",
     "text": [
      "Files already downloaded and verified\n"
     ]
    }
   ],
   "source": [
    "d = cifar_trainset(0)"
   ]
  },
  {
   "cell_type": "code",
   "execution_count": 9,
   "id": "e7a428ad",
   "metadata": {},
   "outputs": [],
   "source": [
    "it = iter(d)"
   ]
  },
  {
   "cell_type": "code",
   "execution_count": 12,
   "id": "e6ddeedc",
   "metadata": {},
   "outputs": [
    {
     "data": {
      "text/plain": [
       "(tensor([[[ 2.2318,  2.2318,  2.2318,  ...,  2.2318,  2.2318,  2.2318],\n",
       "          [ 2.2318,  2.2318,  2.2318,  ...,  2.2318,  2.2318,  2.2318],\n",
       "          [ 2.2318,  2.2318,  2.2318,  ...,  2.2318,  2.2318,  2.2318],\n",
       "          ...,\n",
       "          [-0.2856, -0.3027, -0.3198,  ..., -0.9020, -0.9020, -0.9020],\n",
       "          [-0.3027, -0.3198, -0.3369,  ..., -0.9020, -0.9020, -0.9020],\n",
       "          [-0.3198, -0.3369, -0.3541,  ..., -0.9192, -0.9020, -0.9020]],\n",
       " \n",
       "         [[ 2.4111,  2.4111,  2.4111,  ...,  2.4111,  2.4111,  2.4111],\n",
       "          [ 2.4111,  2.4111,  2.4111,  ...,  2.4111,  2.4111,  2.4111],\n",
       "          [ 2.4111,  2.4111,  2.4111,  ...,  2.4111,  2.4111,  2.4111],\n",
       "          ...,\n",
       "          [-0.0399, -0.0574, -0.0749,  ..., -0.6352, -0.6352, -0.6352],\n",
       "          [-0.0574, -0.0749, -0.0924,  ..., -0.6527, -0.6527, -0.6527],\n",
       "          [-0.0749, -0.0924, -0.1099,  ..., -0.6702, -0.6702, -0.6702]],\n",
       " \n",
       "         [[ 2.6226,  2.6226,  2.6226,  ...,  2.6226,  2.6226,  2.6226],\n",
       "          [ 2.6226,  2.6226,  2.6226,  ...,  2.6226,  2.6226,  2.6226],\n",
       "          [ 2.6226,  2.6226,  2.6226,  ...,  2.6226,  2.6226,  2.6226],\n",
       "          ...,\n",
       "          [ 0.0605,  0.0605,  0.0431,  ..., -0.4275, -0.4275, -0.4275],\n",
       "          [ 0.0431,  0.0431,  0.0256,  ..., -0.4450, -0.4450, -0.4450],\n",
       "          [ 0.0256,  0.0256,  0.0082,  ..., -0.4624, -0.4624, -0.4624]]]),\n",
       " 9)"
      ]
     },
     "execution_count": 12,
     "metadata": {},
     "output_type": "execute_result"
    }
   ],
   "source": [
    "next(it)"
   ]
  },
  {
   "cell_type": "code",
   "execution_count": null,
   "id": "54054e74",
   "metadata": {},
   "outputs": [],
   "source": []
  }
 ],
 "metadata": {
  "kernelspec": {
   "display_name": "base",
   "language": "python",
   "name": "python3"
  },
  "language_info": {
   "codemirror_mode": {
    "name": "ipython",
    "version": 3
   },
   "file_extension": ".py",
   "mimetype": "text/x-python",
   "name": "python",
   "nbconvert_exporter": "python",
   "pygments_lexer": "ipython3",
   "version": "3.12.2"
  }
 },
 "nbformat": 4,
 "nbformat_minor": 5
}
