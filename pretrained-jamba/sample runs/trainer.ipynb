{
 "cells": [
  {
   "cell_type": "code",
   "execution_count": 1,
   "id": "375116b6",
   "metadata": {},
   "outputs": [
    {
     "name": "stderr",
     "output_type": "stream",
     "text": [
      "/u/r/i/riyad/miniconda3/lib/python3.12/site-packages/mamba_ssm/ops/selective_scan_interface.py:163: FutureWarning: `torch.cuda.amp.custom_fwd(args...)` is deprecated. Please use `torch.amp.custom_fwd(args..., device_type='cuda')` instead.\n",
      "  @custom_fwd\n",
      "/u/r/i/riyad/miniconda3/lib/python3.12/site-packages/mamba_ssm/ops/selective_scan_interface.py:239: FutureWarning: `torch.cuda.amp.custom_bwd(args...)` is deprecated. Please use `torch.amp.custom_bwd(args..., device_type='cuda')` instead.\n",
      "  @custom_bwd\n",
      "/u/r/i/riyad/miniconda3/lib/python3.12/site-packages/mamba_ssm/ops/triton/layer_norm.py:985: FutureWarning: `torch.cuda.amp.custom_fwd(args...)` is deprecated. Please use `torch.amp.custom_fwd(args..., device_type='cuda')` instead.\n",
      "  @custom_fwd\n",
      "/u/r/i/riyad/miniconda3/lib/python3.12/site-packages/mamba_ssm/ops/triton/layer_norm.py:1044: FutureWarning: `torch.cuda.amp.custom_bwd(args...)` is deprecated. Please use `torch.amp.custom_bwd(args..., device_type='cuda')` instead.\n",
      "  @custom_bwd\n",
      "/u/r/i/riyad/miniconda3/lib/python3.12/site-packages/mamba_ssm/distributed/tensor_parallel.py:25: FutureWarning: `torch.cuda.amp.custom_fwd(args...)` is deprecated. Please use `torch.amp.custom_fwd(args..., device_type='cuda')` instead.\n",
      "  @custom_fwd\n",
      "/u/r/i/riyad/miniconda3/lib/python3.12/site-packages/mamba_ssm/distributed/tensor_parallel.py:61: FutureWarning: `torch.cuda.amp.custom_bwd(args...)` is deprecated. Please use `torch.amp.custom_bwd(args..., device_type='cuda')` instead.\n",
      "  @custom_bwd\n",
      "/u/r/i/riyad/miniconda3/lib/python3.12/site-packages/mamba_ssm/ops/triton/ssd_combined.py:757: FutureWarning: `torch.cuda.amp.custom_fwd(args...)` is deprecated. Please use `torch.amp.custom_fwd(args..., device_type='cuda')` instead.\n",
      "  @custom_fwd\n",
      "/u/r/i/riyad/miniconda3/lib/python3.12/site-packages/mamba_ssm/ops/triton/ssd_combined.py:835: FutureWarning: `torch.cuda.amp.custom_bwd(args...)` is deprecated. Please use `torch.amp.custom_bwd(args..., device_type='cuda')` instead.\n",
      "  @custom_bwd\n"
     ]
    }
   ],
   "source": [
    "from transformers import AutoModelForCausalLM, AutoTokenizer, JambaForSequenceClassification, JambaConfig\n",
    "from torch.utils.data import DataLoader\n",
    "from transformers import DataCollatorWithPadding\n",
    "import evaluate\n",
    "from datasets import load_dataset\n",
    "import torch\n",
    "import time"
   ]
  },
  {
   "cell_type": "code",
   "execution_count": 2,
   "id": "32910fb4",
   "metadata": {},
   "outputs": [
    {
     "name": "stderr",
     "output_type": "stream",
     "text": [
      "You are using the default legacy behaviour of the <class 'transformers.models.llama.tokenization_llama_fast.LlamaTokenizerFast'>. This is expected, and simply means that the `legacy` (previous) behavior will be used so nothing changes for you. If you want to use the new behaviour, set `legacy=False`. This should only be set if you understand what it means, and thoroughly read the reason why this was added as explained in https://github.com/huggingface/transformers/pull/24565 - if you loaded a llama tokenizer from a GGUF file you can ignore this message.\n"
     ]
    }
   ],
   "source": [
    "# Load the IMDB dataset from Hugging Face\n",
    "imdb = load_dataset(\"imdb\")\n",
    "# Initialize the tokenizer\n",
    "tokenizer = AutoTokenizer.from_pretrained(\"ai21labs/Jamba-v0.1\")\n",
    "def preprocess_function(examples):\n",
    "    return tokenizer(examples[\"text\"], truncation=True)  # padding left to collator\n",
    "tokenized_imdb = imdb.map(preprocess_function, batched=True)\n",
    "\n",
    "tokenized_imdb = tokenized_imdb.remove_columns([\"text\"])\n",
    "tokenized_imdb.set_format(type=\"torch\", columns=[\"input_ids\", \"attention_mask\", \"label\"])\n",
    "data_collator = DataCollatorWithPadding(tokenizer=tokenizer,padding=True, max_length=512)\n",
    "#outputs = model.generate(input_ids, max_new_tokens=216)\n"
   ]
  },
  {
   "cell_type": "code",
   "execution_count": 3,
   "id": "b6bc2143",
   "metadata": {},
   "outputs": [],
   "source": [
    "train_dataloader = DataLoader(\n",
    "    tokenized_imdb[\"train\"],\n",
    "    shuffle=True,\n",
    "    batch_size=16,\n",
    "    collate_fn=data_collator\n",
    ")"
   ]
  },
  {
   "cell_type": "code",
   "execution_count": 4,
   "id": "d83002f4",
   "metadata": {},
   "outputs": [],
   "source": [
    "id2label = {0: \"NEGATIVE\", 1: \"POSITIVE\"}\n",
    "label2id = {\"NEGATIVE\": 0, \"POSITIVE\": 1}"
   ]
  },
  {
   "cell_type": "code",
   "execution_count": 5,
   "id": "0770ec6e",
   "metadata": {},
   "outputs": [
    {
     "name": "stderr",
     "output_type": "stream",
     "text": [
      "/u/r/i/riyad/miniconda3/lib/python3.12/site-packages/transformers/tokenization_utils_base.py:2888: UserWarning: `max_length` is ignored when `padding`=`True` and there is no truncation strategy. To pad to max length, use `padding='max_length'`.\n",
      "  warnings.warn(\n"
     ]
    },
    {
     "data": {
      "text/plain": [
       "{'input_ids': tensor([[    0,     0,     0,  ..., 21569,  2031, 62959],\n",
       "        [    0,     0,     0,  ...,  6882,  1806, 62959],\n",
       "        [    0,     0,     0,  ..., 62965, 62963, 62959],\n",
       "        ...,\n",
       "        [    0,     0,     0,  ...,  1857, 20003, 62959],\n",
       "        [    1,  4531, 14766,  ...,  1874,  1876, 62959],\n",
       "        [    0,     0,     0,  ...,  1808,  2541, 62959]]), 'attention_mask': tensor([[0, 0, 0,  ..., 1, 1, 1],\n",
       "        [0, 0, 0,  ..., 1, 1, 1],\n",
       "        [0, 0, 0,  ..., 1, 1, 1],\n",
       "        ...,\n",
       "        [0, 0, 0,  ..., 1, 1, 1],\n",
       "        [1, 1, 1,  ..., 1, 1, 1],\n",
       "        [0, 0, 0,  ..., 1, 1, 1]]), 'labels': tensor([0, 1, 1, 1, 0, 0, 1, 1, 0, 1, 0, 1, 0, 0, 0, 1])}"
      ]
     },
     "execution_count": 5,
     "metadata": {},
     "output_type": "execute_result"
    }
   ],
   "source": [
    "next(iter(train_dataloader))"
   ]
  },
  {
   "cell_type": "code",
   "execution_count": 6,
   "id": "3508390f",
   "metadata": {},
   "outputs": [],
   "source": [
    "jamba_config = {\n",
    "        \"vocab_size\": len(tokenizer.vocab),\n",
    "        \"hidden_size\": 128,\n",
    "        \"num_hidden_layers\": 2,\n",
    "        \"num_attention_heads\": 8,\n",
    "        \"num_key_value_heads\": 2,\n",
    "        \n",
    "        \"num_experts_per_tok\": 1,\n",
    "        \"num_experts\": 1,\n",
    "        \"expert_layer_offset\": 1,\n",
    "        \n",
    "        \"attn_layer_period\": 2,\n",
    "        \"attn_layer_offset\": 1,\n",
    "        \n",
    "        \"use_mamba_kernels\": False, \n",
    "        \"mamba_d_state\": 16,\n",
    "        \"mamba_d_conv\": 4,\n",
    "        \"mamba_expand\": 2,\n",
    "        \"output_router_logits\":False,\n",
    "    }\n",
    "# config = JambaConfig(\n",
    "#     vocab_size=50257,\n",
    "#     dim=512,\n",
    "#     num_hidden_layers=8, # number of hidden layers in transformer block\n",
    "\n",
    "#     hidden_size=256,\n",
    "#     attn_layer_period = 8, # every 4 layer there is a attention layer\n",
    "#     attention_offset = 0, # offset for attention layer\n",
    "#     num_attention_heads=8,\n",
    "#     num_key_value_heads = 8, # if equal with num_attention_heads, then use MultiheadAttention\n",
    "\n",
    "#     d_conv=4,\n",
    "#     d_state=256,\n",
    "#     num_experts_per_tok = 2,  # a router choosing 2 experts per token\n",
    "#     num_experts=2, # total number of experts\n",
    "#     expert_layer_period =4, # every 4 layer there is a expert layer\n",
    "# )\n",
    "config = JambaConfig(**jamba_config)\n",
    "model  = JambaForSequenceClassification(config)\n"
   ]
  },
  {
   "cell_type": "code",
   "execution_count": 7,
   "id": "16c7fd58",
   "metadata": {},
   "outputs": [
    {
     "data": {
      "text/plain": [
       "JambaForSequenceClassification(\n",
       "  (model): JambaModel(\n",
       "    (embed_tokens): Embedding(65536, 128, padding_idx=0)\n",
       "    (layers): ModuleList(\n",
       "      (0): JambaMambaDecoderLayer(\n",
       "        (mamba): JambaMambaMixer(\n",
       "          (conv1d): Conv1d(256, 256, kernel_size=(4,), stride=(1,), padding=(3,), groups=256)\n",
       "          (act): SiLU()\n",
       "          (in_proj): Linear(in_features=128, out_features=512, bias=False)\n",
       "          (x_proj): Linear(in_features=256, out_features=40, bias=False)\n",
       "          (dt_proj): Linear(in_features=8, out_features=256, bias=True)\n",
       "          (out_proj): Linear(in_features=256, out_features=128, bias=False)\n",
       "          (dt_layernorm): JambaRMSNorm((8,), eps=1e-06)\n",
       "          (b_layernorm): JambaRMSNorm((16,), eps=1e-06)\n",
       "          (c_layernorm): JambaRMSNorm((16,), eps=1e-06)\n",
       "        )\n",
       "        (feed_forward): JambaMLP(\n",
       "          (gate_proj): Linear(in_features=128, out_features=14336, bias=False)\n",
       "          (up_proj): Linear(in_features=128, out_features=14336, bias=False)\n",
       "          (down_proj): Linear(in_features=14336, out_features=128, bias=False)\n",
       "          (act_fn): SiLU()\n",
       "        )\n",
       "        (input_layernorm): JambaRMSNorm((128,), eps=1e-06)\n",
       "        (pre_ff_layernorm): JambaRMSNorm((128,), eps=1e-06)\n",
       "      )\n",
       "      (1): JambaAttentionDecoderLayer(\n",
       "        (self_attn): JambaSdpaAttention(\n",
       "          (q_proj): Linear(in_features=128, out_features=128, bias=False)\n",
       "          (k_proj): Linear(in_features=128, out_features=32, bias=False)\n",
       "          (v_proj): Linear(in_features=128, out_features=32, bias=False)\n",
       "          (o_proj): Linear(in_features=128, out_features=128, bias=False)\n",
       "        )\n",
       "        (feed_forward): JambaMLP(\n",
       "          (gate_proj): Linear(in_features=128, out_features=14336, bias=False)\n",
       "          (up_proj): Linear(in_features=128, out_features=14336, bias=False)\n",
       "          (down_proj): Linear(in_features=14336, out_features=128, bias=False)\n",
       "          (act_fn): SiLU()\n",
       "        )\n",
       "        (input_layernorm): JambaRMSNorm((128,), eps=1e-06)\n",
       "        (pre_ff_layernorm): JambaRMSNorm((128,), eps=1e-06)\n",
       "      )\n",
       "    )\n",
       "    (final_layernorm): JambaRMSNorm((128,), eps=1e-06)\n",
       "  )\n",
       "  (score): Linear(in_features=128, out_features=2, bias=False)\n",
       ")"
      ]
     },
     "execution_count": 7,
     "metadata": {},
     "output_type": "execute_result"
    }
   ],
   "source": [
    "model"
   ]
  },
  {
   "cell_type": "markdown",
   "id": "96cc60d2",
   "metadata": {},
   "source": [
    "### Standard Jamba Config"
   ]
  },
  {
   "cell_type": "code",
   "execution_count": 8,
   "id": "77768665",
   "metadata": {},
   "outputs": [],
   "source": [
    "# # standard jamba config\n",
    "# from transformers import JambaConfig, JambaModel\n",
    "# jamba_config = {\n",
    "#     \"vocab_size\": 65536,\n",
    "#     \"hidden_size\": 4096,\n",
    "#     \"intermediate_size\": 14336,\n",
    "#     \"num_hidden_layers\": 8,\n",
    "#     \"num_attention_heads\": 32,\n",
    "#     \"num_key_value_heads\": 8,\n",
    "\n",
    "#     # Expert / MoE (optional)\n",
    "#     \"num_experts_per_tok\": 2,\n",
    "#     \"num_experts\": 2,\n",
    "#     \"expert_layer_offset\": 1,\n",
    "\n",
    "#     # Attention layer config\n",
    "#     \"attn_layer_period\": 8,\n",
    "#     \"attn_layer_offset\": 1,\n",
    "\n",
    "#     # Mamba-specific config\n",
    "#     \"use_mamba_kernels\": True,\n",
    "#     \"mamba_d_state\": 16,\n",
    "#     \"mamba_d_conv\": 4,\n",
    "#     \"mamba_expand\": 2,\n",
    "#     \"mamba_dt_rank\": \"auto\",\n",
    "#     \"mamba_conv_bias\": True,\n",
    "#     \"mamba_proj_bias\": False,\n",
    "# }\n",
    "\n",
    "# config = JambaConfig(**jamba_config)\n",
    "# model = JambaModel(config)\n",
    "# model"
   ]
  },
  {
   "cell_type": "code",
   "execution_count": 9,
   "id": "dd48db3f",
   "metadata": {},
   "outputs": [
    {
     "data": {
      "text/plain": [
       "<generator object Module.parameters at 0x7f9238e1f5a0>"
      ]
     },
     "execution_count": 9,
     "metadata": {},
     "output_type": "execute_result"
    }
   ],
   "source": [
    "model.parameters()"
   ]
  },
  {
   "cell_type": "code",
   "execution_count": 10,
   "id": "5c00f68e",
   "metadata": {},
   "outputs": [],
   "source": [
    "import numpy as np\n",
    "accuracy_metric = evaluate.load(\"accuracy\")"
   ]
  },
  {
   "cell_type": "code",
   "execution_count": 11,
   "id": "458d4cec",
   "metadata": {},
   "outputs": [],
   "source": [
    "def compute_metrics(eval_pred):\n",
    "    predictions, labels = eval_pred\n",
    "    predictions = np.argmax(predictions, axis=1)\n",
    "    return accuracy_metric.compute(predictions=predictions, references=labels)"
   ]
  },
  {
   "cell_type": "code",
   "execution_count": 12,
   "id": "2581333e",
   "metadata": {},
   "outputs": [],
   "source": [
    "device = torch.device(\"cuda\" if torch.cuda.is_available() else \"cpu\")"
   ]
  },
  {
   "cell_type": "code",
   "execution_count": 13,
   "id": "1b46d6d7",
   "metadata": {},
   "outputs": [
    {
     "name": "stdout",
     "output_type": "stream",
     "text": [
      "Model size on GPU: 74.60 MB\n"
     ]
    }
   ],
   "source": [
    "def get_model_size_in_mb(model):\n",
    "    param_size = 0\n",
    "    for param in model.parameters():\n",
    "        param_size += param.nelement() * param.element_size()\n",
    "        \n",
    "    buffer_size = 0\n",
    "    for buffer in model.buffers():\n",
    "        buffer_size += buffer.nelement() * buffer.element_size()\n",
    "        \n",
    "    total_size = param_size + buffer_size  # in bytes\n",
    "    return total_size / (1024 ** 2)  # convert to MB\n",
    "\n",
    "\n",
    "size_mb = get_model_size_in_mb(model)\n",
    "print(f\"Model size on GPU: {size_mb:.2f} MB\")"
   ]
  },
  {
   "cell_type": "code",
   "execution_count": 14,
   "id": "2adac833",
   "metadata": {},
   "outputs": [
    {
     "name": "stdout",
     "output_type": "stream",
     "text": [
      "Total Parameters: 19,557,032 (19.56M)\n",
      "Trainable Parameters: 19,557,032 (19.56M)\n",
      "Approximate Model Size: 74.60 MB\n"
     ]
    }
   ],
   "source": [
    "# Count total number of parameters\n",
    "total_params = sum(p.numel() for p in model.parameters())\n",
    "trainable_params = sum(p.numel() for p in model.parameters() if p.requires_grad)\n",
    "\n",
    "# Print in millions\n",
    "print(f\"Total Parameters: {total_params:,} ({total_params / 1e6:.2f}M)\")\n",
    "print(f\"Trainable Parameters: {trainable_params:,} ({trainable_params / 1e6:.2f}M)\")\n",
    "\n",
    "# Approximate model size in MB (assuming 32-bit floats = 4 bytes per parameter)\n",
    "model_size_mb = trainable_params * 4 / (1024 ** 2)\n",
    "print(f\"Approximate Model Size: {model_size_mb:.2f} MB\")"
   ]
  },
  {
   "cell_type": "code",
   "execution_count": 15,
   "id": "fa981595",
   "metadata": {},
   "outputs": [],
   "source": [
    "def get_tensor_size_in_mb(tensor):\n",
    "    return tensor.nelement() * tensor.element_size() / (1024 ** 2)\n"
   ]
  },
  {
   "cell_type": "code",
   "execution_count": 16,
   "id": "65313de9",
   "metadata": {},
   "outputs": [],
   "source": [
    "import torch.nn as nn \n",
    "import torch.optim as optim"
   ]
  },
  {
   "cell_type": "code",
   "execution_count": 17,
   "id": "95a294fa",
   "metadata": {},
   "outputs": [
    {
     "name": "stderr",
     "output_type": "stream",
     "text": [
      "Jamba requires an initialized `HybridMambaAttentionDynamicCache` to return a cache. None was provided, so no cache will be returned.\n"
     ]
    },
    {
     "name": "stdout",
     "output_type": "stream",
     "text": [
      "Time taken for batch:  11.768513917922974\n",
      "Time taken for batch:  2.6130831241607666\n"
     ]
    },
    {
     "ename": "OutOfMemoryError",
     "evalue": "CUDA out of memory. Tried to allocate 1014.00 MiB. GPU 0 has a total capacity of 10.75 GiB of which 818.69 MiB is free. Including non-PyTorch memory, this process has 9.94 GiB memory in use. Of the allocated memory 9.43 GiB is allocated by PyTorch, and 327.96 MiB is reserved by PyTorch but unallocated. If reserved but unallocated memory is large try setting PYTORCH_CUDA_ALLOC_CONF=expandable_segments:True to avoid fragmentation.  See documentation for Memory Management  (https://pytorch.org/docs/stable/notes/cuda.html#environment-variables)",
     "output_type": "error",
     "traceback": [
      "\u001b[0;31m---------------------------------------------------------------------------\u001b[0m",
      "\u001b[0;31mOutOfMemoryError\u001b[0m                          Traceback (most recent call last)",
      "Cell \u001b[0;32mIn[17], line 28\u001b[0m\n\u001b[1;32m     26\u001b[0m loss \u001b[38;5;241m=\u001b[39m outputs\u001b[38;5;241m.\u001b[39mloss\n\u001b[1;32m     27\u001b[0m \u001b[38;5;66;03m# Backward pass and optimize\u001b[39;00m\n\u001b[0;32m---> 28\u001b[0m \u001b[43mloss\u001b[49m\u001b[38;5;241;43m.\u001b[39;49m\u001b[43mbackward\u001b[49m\u001b[43m(\u001b[49m\u001b[43m)\u001b[49m\n\u001b[1;32m     29\u001b[0m optimizer\u001b[38;5;241m.\u001b[39mstep()\n\u001b[1;32m     30\u001b[0m end_time \u001b[38;5;241m=\u001b[39m time\u001b[38;5;241m.\u001b[39mtime()\n",
      "File \u001b[0;32m~/miniconda3/lib/python3.12/site-packages/torch/_tensor.py:521\u001b[0m, in \u001b[0;36mTensor.backward\u001b[0;34m(self, gradient, retain_graph, create_graph, inputs)\u001b[0m\n\u001b[1;32m    511\u001b[0m \u001b[38;5;28;01mif\u001b[39;00m has_torch_function_unary(\u001b[38;5;28mself\u001b[39m):\n\u001b[1;32m    512\u001b[0m     \u001b[38;5;28;01mreturn\u001b[39;00m handle_torch_function(\n\u001b[1;32m    513\u001b[0m         Tensor\u001b[38;5;241m.\u001b[39mbackward,\n\u001b[1;32m    514\u001b[0m         (\u001b[38;5;28mself\u001b[39m,),\n\u001b[0;32m   (...)\u001b[0m\n\u001b[1;32m    519\u001b[0m         inputs\u001b[38;5;241m=\u001b[39minputs,\n\u001b[1;32m    520\u001b[0m     )\n\u001b[0;32m--> 521\u001b[0m \u001b[43mtorch\u001b[49m\u001b[38;5;241;43m.\u001b[39;49m\u001b[43mautograd\u001b[49m\u001b[38;5;241;43m.\u001b[39;49m\u001b[43mbackward\u001b[49m\u001b[43m(\u001b[49m\n\u001b[1;32m    522\u001b[0m \u001b[43m    \u001b[49m\u001b[38;5;28;43mself\u001b[39;49m\u001b[43m,\u001b[49m\u001b[43m \u001b[49m\u001b[43mgradient\u001b[49m\u001b[43m,\u001b[49m\u001b[43m \u001b[49m\u001b[43mretain_graph\u001b[49m\u001b[43m,\u001b[49m\u001b[43m \u001b[49m\u001b[43mcreate_graph\u001b[49m\u001b[43m,\u001b[49m\u001b[43m \u001b[49m\u001b[43minputs\u001b[49m\u001b[38;5;241;43m=\u001b[39;49m\u001b[43minputs\u001b[49m\n\u001b[1;32m    523\u001b[0m \u001b[43m\u001b[49m\u001b[43m)\u001b[49m\n",
      "File \u001b[0;32m~/miniconda3/lib/python3.12/site-packages/torch/autograd/__init__.py:289\u001b[0m, in \u001b[0;36mbackward\u001b[0;34m(tensors, grad_tensors, retain_graph, create_graph, grad_variables, inputs)\u001b[0m\n\u001b[1;32m    284\u001b[0m     retain_graph \u001b[38;5;241m=\u001b[39m create_graph\n\u001b[1;32m    286\u001b[0m \u001b[38;5;66;03m# The reason we repeat the same comment below is that\u001b[39;00m\n\u001b[1;32m    287\u001b[0m \u001b[38;5;66;03m# some Python versions print out the first line of a multi-line function\u001b[39;00m\n\u001b[1;32m    288\u001b[0m \u001b[38;5;66;03m# calls in the traceback and some print out the last line\u001b[39;00m\n\u001b[0;32m--> 289\u001b[0m \u001b[43m_engine_run_backward\u001b[49m\u001b[43m(\u001b[49m\n\u001b[1;32m    290\u001b[0m \u001b[43m    \u001b[49m\u001b[43mtensors\u001b[49m\u001b[43m,\u001b[49m\n\u001b[1;32m    291\u001b[0m \u001b[43m    \u001b[49m\u001b[43mgrad_tensors_\u001b[49m\u001b[43m,\u001b[49m\n\u001b[1;32m    292\u001b[0m \u001b[43m    \u001b[49m\u001b[43mretain_graph\u001b[49m\u001b[43m,\u001b[49m\n\u001b[1;32m    293\u001b[0m \u001b[43m    \u001b[49m\u001b[43mcreate_graph\u001b[49m\u001b[43m,\u001b[49m\n\u001b[1;32m    294\u001b[0m \u001b[43m    \u001b[49m\u001b[43minputs\u001b[49m\u001b[43m,\u001b[49m\n\u001b[1;32m    295\u001b[0m \u001b[43m    \u001b[49m\u001b[43mallow_unreachable\u001b[49m\u001b[38;5;241;43m=\u001b[39;49m\u001b[38;5;28;43;01mTrue\u001b[39;49;00m\u001b[43m,\u001b[49m\n\u001b[1;32m    296\u001b[0m \u001b[43m    \u001b[49m\u001b[43maccumulate_grad\u001b[49m\u001b[38;5;241;43m=\u001b[39;49m\u001b[38;5;28;43;01mTrue\u001b[39;49;00m\u001b[43m,\u001b[49m\n\u001b[1;32m    297\u001b[0m \u001b[43m\u001b[49m\u001b[43m)\u001b[49m\n",
      "File \u001b[0;32m~/miniconda3/lib/python3.12/site-packages/torch/autograd/graph.py:769\u001b[0m, in \u001b[0;36m_engine_run_backward\u001b[0;34m(t_outputs, *args, **kwargs)\u001b[0m\n\u001b[1;32m    767\u001b[0m     unregister_hooks \u001b[38;5;241m=\u001b[39m _register_logging_hooks_on_whole_graph(t_outputs)\n\u001b[1;32m    768\u001b[0m \u001b[38;5;28;01mtry\u001b[39;00m:\n\u001b[0;32m--> 769\u001b[0m     \u001b[38;5;28;01mreturn\u001b[39;00m \u001b[43mVariable\u001b[49m\u001b[38;5;241;43m.\u001b[39;49m\u001b[43m_execution_engine\u001b[49m\u001b[38;5;241;43m.\u001b[39;49m\u001b[43mrun_backward\u001b[49m\u001b[43m(\u001b[49m\u001b[43m  \u001b[49m\u001b[38;5;66;43;03m# Calls into the C++ engine to run the backward pass\u001b[39;49;00m\n\u001b[1;32m    770\u001b[0m \u001b[43m        \u001b[49m\u001b[43mt_outputs\u001b[49m\u001b[43m,\u001b[49m\u001b[43m \u001b[49m\u001b[38;5;241;43m*\u001b[39;49m\u001b[43margs\u001b[49m\u001b[43m,\u001b[49m\u001b[43m \u001b[49m\u001b[38;5;241;43m*\u001b[39;49m\u001b[38;5;241;43m*\u001b[39;49m\u001b[43mkwargs\u001b[49m\n\u001b[1;32m    771\u001b[0m \u001b[43m    \u001b[49m\u001b[43m)\u001b[49m  \u001b[38;5;66;03m# Calls into the C++ engine to run the backward pass\u001b[39;00m\n\u001b[1;32m    772\u001b[0m \u001b[38;5;28;01mfinally\u001b[39;00m:\n\u001b[1;32m    773\u001b[0m     \u001b[38;5;28;01mif\u001b[39;00m attach_logging_hooks:\n",
      "\u001b[0;31mOutOfMemoryError\u001b[0m: CUDA out of memory. Tried to allocate 1014.00 MiB. GPU 0 has a total capacity of 10.75 GiB of which 818.69 MiB is free. Including non-PyTorch memory, this process has 9.94 GiB memory in use. Of the allocated memory 9.43 GiB is allocated by PyTorch, and 327.96 MiB is reserved by PyTorch but unallocated. If reserved but unallocated memory is large try setting PYTORCH_CUDA_ALLOC_CONF=expandable_segments:True to avoid fragmentation.  See documentation for Memory Management  (https://pytorch.org/docs/stable/notes/cuda.html#environment-variables)"
     ]
    }
   ],
   "source": [
    "torch.cuda.empty_cache()\n",
    "model.to(device)\n",
    "# Loss function and optimizer\n",
    "\n",
    "criterion = nn.CrossEntropyLoss()\n",
    "optimizer = optim.Adam(model.parameters(), lr=0.001)\n",
    "\n",
    "# Training loop\n",
    "\n",
    "epochs = 1\n",
    "totaltime, endtotal = 0,0\n",
    "for epoch in range(epochs):\n",
    "    totaltime = time.time()\n",
    "    model.train() \n",
    "    total_loss = 0\n",
    "    len_data = 0\n",
    "    for batch in train_dataloader:\n",
    "        start_time = time.time()\n",
    "        optimizer.zero_grad()  # Zero the gradients\n",
    "        inputs = batch['input_ids'].to(device)\n",
    "        attention_mask = batch['attention_mask'].to(device)\n",
    "        targets = batch['labels'].to(device)\n",
    "        #print(\"Data_size\", get_tensor_size_in_mb(inputs)+ get_tensor_size_in_mb(attention_mask) + get_tensor_size_in_mb(targets))\n",
    "        # Forward pass\n",
    "        outputs = model(input_ids = inputs, attention_mask=attention_mask,labels = targets) \n",
    "        loss = outputs.loss\n",
    "        # Backward pass and optimize\n",
    "        loss.backward()\n",
    "        optimizer.step()\n",
    "        end_time = time.time()\n",
    "        total_loss += loss\n",
    "        print(\"Time taken for batch: \", end_time - start_time)\n",
    "\n",
    "    print(f\"Epoch {epoch+1}, Loss: {total_loss / len(train_dataloader)}\")\n",
    "    endtotal = time.time()\n",
    "    print(\"Total time taken for epoch: \", endtotal - totaltime)\n",
    "print(\"Training complete!\")"
   ]
  },
  {
   "cell_type": "code",
   "execution_count": null,
   "id": "ad2dc32e",
   "metadata": {},
   "outputs": [
    {
     "ename": "SyntaxError",
     "evalue": "invalid syntax (2771961923.py, line 1)",
     "output_type": "error",
     "traceback": [
      "\u001b[0;36m  Cell \u001b[0;32mIn[9], line 1\u001b[0;36m\u001b[0m\n\u001b[0;31m    https://stackoverflow.com/questions/56805951/valueerror-error-initializing-torch-distributed-using-env-rendezvous-enviro\u001b[0m\n\u001b[0m          ^\u001b[0m\n\u001b[0;31mSyntaxError\u001b[0m\u001b[0;31m:\u001b[0m invalid syntax\n"
     ]
    }
   ],
   "source": [
    "\"https://stackoverflow.com/questions/56805951/valueerror-error-initializing-torch-distributed-using-env-rendezvous-enviro\""
   ]
  },
  {
   "cell_type": "code",
   "execution_count": null,
   "id": "95156471",
   "metadata": {},
   "outputs": [],
   "source": []
  }
 ],
 "metadata": {
  "kernelspec": {
   "display_name": "base",
   "language": "python",
   "name": "python3"
  },
  "language_info": {
   "codemirror_mode": {
    "name": "ipython",
    "version": 3
   },
   "file_extension": ".py",
   "mimetype": "text/x-python",
   "name": "python",
   "nbconvert_exporter": "python",
   "pygments_lexer": "ipython3",
   "version": "3.12.2"
  }
 },
 "nbformat": 4,
 "nbformat_minor": 5
}
